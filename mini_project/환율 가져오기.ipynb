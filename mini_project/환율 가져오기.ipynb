{
 "cells": [
  {
   "cell_type": "code",
   "execution_count": 1,
   "metadata": {},
   "outputs": [],
   "source": [
    "import requests as req"
   ]
  },
  {
   "cell_type": "code",
   "execution_count": 2,
   "metadata": {},
   "outputs": [
    {
     "name": "stdout",
     "output_type": "stream",
     "text": [
      "1,294.80\n"
     ]
    }
   ],
   "source": [
    "#문자열 조작\n",
    "\n",
    "res = req.get(\"https://finance.naver.com/marketindex/?tabSel=exchange#tab_section\")\n",
    "\n",
    "html = res.text\n",
    "\n",
    "er = html.split('<span class=\"value\">')[1].split('</span>')[0]\n",
    "print(er)"
   ]
  },
  {
   "cell_type": "code",
   "execution_count": 3,
   "metadata": {},
   "outputs": [
    {
     "name": "stdout",
     "output_type": "stream",
     "text": [
      "------------\n",
      "오늘의 환율\n",
      "------------\n",
      "미국 USD : 1,294.80\n",
      "일본 JPY(100엔) : 905.93\n",
      "유럽연합 EUR : 1,423.24\n",
      "중국 CNY : 180.10\n",
      "달러/일본 엔 : 143.2700\n",
      "유로/달러 : 1.0977\n",
      "영국 파운드/달러 : 1.2759\n",
      "달러인덱스 : 102.0800\n",
      "WTI : 81.37\n",
      "휘발유 : 1646.0\n",
      "국제 금 : 1978.8\n",
      "국내 금 : 81123.88\n",
      "\n",
      "77$ 환전되었습니다.\n"
     ]
    }
   ],
   "source": [
    "#정규식\n",
    "import re\n",
    "\n",
    "url = \"https://finance.naver.com/marketindex/?tabSel=exchange#tab_section\"\n",
    "res = req.get(url)\n",
    "html = res.text\n",
    "\n",
    "r = re.compile(r\"h_lst\\\">.*?blind\\\">(.*?)</span>.*?value\\\">(.*?)</\", re.DOTALL) #re.DOTALL : 엔터 포함, ? : 가장 좁은 범위로 설정\n",
    "captures = r.findall(html)\n",
    "\n",
    "print(\"------------\")\n",
    "print(\"오늘의 환율\")\n",
    "print(\"------------\")\n",
    "\n",
    "for c in captures :\n",
    "    print(c[0] + \" : \" + c[1])\n",
    "\n",
    "print()\n",
    "usd = float(captures[0][1].replace(\",\", \"\"))\n",
    "won = int(input(\"달러로 환전할 금액(원)을 입력해주세요 : \"))\n",
    "dollar = int(won / usd)\n",
    "print(f\"{dollar}$ 환전되었습니다.\")\n",
    "\n",
    "\n"
   ]
  },
  {
   "cell_type": "code",
   "execution_count": 11,
   "metadata": {},
   "outputs": [
    {
     "name": "stdout",
     "output_type": "stream",
     "text": [
      "['미국 USD', '유럽연합 EUR', '일본 JPY (100엔)', '중국 CNY', '홍콩 HKD', '대만 TWD', '영국 GBP', '오만 OMR', '캐나다 CAD', '스위스 CHF', '스웨덴 SEK', '호주 AUD', '뉴질랜드 NZD', '체코 CZK', '칠레 CLP', '튀르키예 TRY', '몽골 MNT', '이스라엘 ILS', '덴마크 DKK', '노르웨이 NOK', '사우디아라비아 SAR', '쿠웨이트 KWD', '바레인 BHD', '아랍에미리트 AED', '요르단 JOD', '이집트 EGP', '태국 THB', '싱가포르 SGD', '말레이시아 MYR', '인도네시아 IDR 100', '카타르 QAR', '카자흐스탄 KZT', '브루나이 BND', '인도 INR', '파키스탄 PKR', '방글라데시 BDT', '필리핀 PHP', '멕시코 MXN', '브라질 BRL', '베트남 VND 100', '남아프리카 공화국 ZAR', '러시아 RUB', '헝가리 HUF', '폴란드 PLN', '스리랑카 LKR', '알제리 DZD', '케냐 KES', '콜롬비아 COP', '탄자니아 TZS', '네팔 NPR', '루마니아 RON', '리비아 LYD', '마카오 MOP', '미얀마 MMK', '에티오피아 ETB', '우즈베키스탄 UZS', '캄보디아 KHR', '피지 FJD']\n",
      "['1,295.50', '1,424.14', '906.86', '180.12', '166.16', '40.94', '1,654.87', '3,364.85', '974.39', '1,481.59', '122.27', '852.57', '791.10', '59.43', '1.54', '48.05', '0.37', '355.54', '191.11', '126.90', '345.27', '4,211.91', '3,436.80', '352.70', '1,827.22', '41.86', '37.71', '969.14', '285.32', '8.56', '355.47', '2.92', '969.14', '15.71', '4.49', '11.84', '23.55', '76.61', '270.26', '5.46', '70.67', '14.06', '3.66', '319.94', '4.13', '9.55', '9.08', '0.32', '0.53', '9.82', '288.73', '270.65', '161.37', '0.62', '23.51', '0.11', '0.31', '583.95']\n"
     ]
    }
   ],
   "source": [
    "#beautifulsoup\n",
    "\n",
    "from bs4 import BeautifulSoup as BS\n",
    "import requests as req\n",
    "\n",
    "url = \"https://finance.naver.com//marketindex/exchangeList.naver\"\n",
    "res = req.get(url)\n",
    "soup = BS(res.text, \"html.parser\")\n",
    "\n",
    "tds = soup.find_all('td')\n",
    "\n",
    "names = []\n",
    "for td in tds :\n",
    "    if len(td.find_all('a')) == 0:\n",
    "        continue\n",
    "    names.append((td.get_text(strip=True)))\n",
    "\n",
    "prices = []\n",
    "for td in tds :\n",
    "    if \"class\" in td.attrs :\n",
    "        if \"sale\" in td.attrs[\"class\"] :\n",
    "            prices.append((td.get_text(strip=True)))\n",
    "\n",
    "print(names)\n",
    "print(prices)\n",
    "\n"
   ]
  },
  {
   "cell_type": "code",
   "execution_count": null,
   "metadata": {},
   "outputs": [],
   "source": []
  }
 ],
 "metadata": {
  "kernelspec": {
   "display_name": "base",
   "language": "python",
   "name": "python3"
  },
  "language_info": {
   "codemirror_mode": {
    "name": "ipython",
    "version": 3
   },
   "file_extension": ".py",
   "mimetype": "text/x-python",
   "name": "python",
   "nbconvert_exporter": "python",
   "pygments_lexer": "ipython3",
   "version": "3.10.9"
  },
  "orig_nbformat": 4
 },
 "nbformat": 4,
 "nbformat_minor": 2
}
