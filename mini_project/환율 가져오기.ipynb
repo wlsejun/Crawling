{
 "cells": [
  {
   "cell_type": "code",
   "execution_count": 2,
   "metadata": {},
   "outputs": [],
   "source": [
    "import requests as req"
   ]
  },
  {
   "cell_type": "code",
   "execution_count": 8,
   "metadata": {},
   "outputs": [
    {
     "name": "stdout",
     "output_type": "stream",
     "text": [
      "1,276.00\n"
     ]
    }
   ],
   "source": [
    "#문자열 조작\n",
    "\n",
    "res = req.get(\"https://finance.naver.com/marketindex/?tabSel=exchange#tab_section\")\n",
    "\n",
    "html = res.text\n",
    "\n",
    "er = html.split('<span class=\"value\">')[1].split('</span>')[0]\n",
    "print(er)"
   ]
  },
  {
   "cell_type": "code",
   "execution_count": 30,
   "metadata": {},
   "outputs": [
    {
     "name": "stdout",
     "output_type": "stream",
     "text": [
      "------------\n",
      "오늘의 환율\n",
      "------------\n",
      "미국 USD : 1,276.00\n",
      "일본 JPY(100엔) : 897.04\n",
      "유럽연합 EUR : 1,408.00\n",
      "중국 CNY : 178.38\n",
      "달러/일본 엔 : 141.1400\n",
      "유로/달러 : 1.1036\n",
      "영국 파운드/달러 : 1.2846\n",
      "달러인덱스 : 101.3900\n",
      "WTI : 80.58\n",
      "휘발유 : 1627.38\n",
      "국제 금 : 1960.4\n",
      "국내 금 : 80301.23\n",
      "\n",
      "783$ 환전되었습니다.\n"
     ]
    }
   ],
   "source": [
    "#정규식\n",
    "import re\n",
    "\n",
    "url = \"https://finance.naver.com/marketindex/?tabSel=exchange#tab_section\"\n",
    "res = req.get(url)\n",
    "html = res.text\n",
    "\n",
    "r = re.compile(r\"h_lst\\\">.*?blind\\\">(.*?)</span>.*?value\\\">(.*?)</\", re.DOTALL) #re.DOTALL : 엔터 포함, ? : 가장 좁은 범위로 설정\n",
    "captures = r.findall(html)\n",
    "\n",
    "print(\"------------\")\n",
    "print(\"오늘의 환율\")\n",
    "print(\"------------\")\n",
    "\n",
    "for c in captures :\n",
    "    print(c[0] + \" : \" + c[1])\n",
    "\n",
    "print()\n",
    "usd = float(captures[0][1].replace(\",\", \"\"))\n",
    "won = int(input(\"달러로 환전할 금액(원)을 입력해주세요 : \"))\n",
    "dollar = int(won / usd)\n",
    "print(f\"{dollar}$ 환전되었습니다.\")\n",
    "\n",
    "\n"
   ]
  },
  {
   "cell_type": "code",
   "execution_count": null,
   "metadata": {},
   "outputs": [],
   "source": [
    "#beautifulsoup\n",
    "\n",
    "\n",
    "\n"
   ]
  }
 ],
 "metadata": {
  "kernelspec": {
   "display_name": "base",
   "language": "python",
   "name": "python3"
  },
  "language_info": {
   "codemirror_mode": {
    "name": "ipython",
    "version": 3
   },
   "file_extension": ".py",
   "mimetype": "text/x-python",
   "name": "python",
   "nbconvert_exporter": "python",
   "pygments_lexer": "ipython3",
   "version": "3.10.9"
  },
  "orig_nbformat": 4
 },
 "nbformat": 4,
 "nbformat_minor": 2
}
