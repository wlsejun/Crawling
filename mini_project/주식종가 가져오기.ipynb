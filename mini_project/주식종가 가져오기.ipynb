{
 "cells": [
  {
   "cell_type": "code",
   "execution_count": 32,
   "metadata": {},
   "outputs": [
    {
     "name": "stdout",
     "output_type": "stream",
     "text": [
      "에코프로 1,207,000 +7.96%\n",
      "POSCO홀딩스 592,000 +1.20%\n",
      "금양 149,000 +7.89%\n",
      "삼성전자 68,800 -1.57%\n",
      "에코프로비엠 390,000 +2.50%\n",
      "서남 10,980 +29.94%\n",
      "테라사이언스 4,670 +29.90%\n",
      "덕성 9,690 +29.89%\n",
      "대창 2,115 +29.99%\n",
      "휴마시스 3,075 +26.28%\n",
      "SK이노베이션 206,500 +5.25%\n",
      "엘앤에프 244,000 -0.20%\n",
      "신성델타테크 25,350 -0.98%\n",
      "원익피앤이 11,010 -8.25%\n",
      "포스코퓨처엠 488,500 +0.51%\n",
      "포스코인터내셔널 82,100 -3.41%\n",
      "포스코DX 34,000 +2.87%\n",
      "STX 15,660 +24.29%\n",
      "파워로직스 10,060 0.00%\n",
      "LS전선아시아 11,300 +7.72%\n",
      "모비스 4,400 +19.40%\n",
      "삼부토건 3,625 +3.57%\n",
      "씨젠 25,200 +13.51%\n",
      "한미반도체 49,300 +0.10%\n",
      "NAVER 223,000 -1.98%\n",
      "서원 2,220 +29.98%\n",
      "삼성중공업 8,810 -3.29%\n",
      "이수페타시스 33,050 -7.68%\n",
      "셀트리온 151,200 +2.16%\n",
      "미래산업 30,000 -15.73%\n"
     ]
    }
   ],
   "source": [
    "from bs4 import BeautifulSoup as BS\n",
    "import requests as req\n",
    "\n",
    "url = \"https://finance.naver.com/sise/lastsearch2.naver\"\n",
    "res = req.get(url)\n",
    "soup = BS(res.text, \"html.parser\")\n",
    "\n",
    "\"\"\" for title in soup.select(\"a.tltle\"):\n",
    "    print(title.get_text(strip=True)) \"\"\"\n",
    "\n",
    "for tr in soup.select(\"table.type_5 tr\"): # 주의 : table.type_5 tbody tr 을 하면 빈리스트가 나옴. 이유는 페이지 소스를 보면 tbody가 없음. 개발자도구를 믿지말 것! 페이지소스를 확인하라!\n",
    "    if len(tr.select(\"a.tltle\")) == 0 : # 주의 : title이 아니라 tltle임\n",
    "        continue\n",
    "    title = tr.select(\"a.tltle\")[0].get_text(strip=True)\n",
    "    price = tr.select(\"td.number:nth-child(4)\")[0].get_text(strip=True) # 주의 : nth-child의 순서는 td.number에서부터의 순서가 아니라 td에서부터의 순서임\n",
    "    change = tr.select(\"td.number:nth-child(6)\")[0].get_text(strip=True)\n",
    "    print(title, price, change)"
   ]
  },
  {
   "cell_type": "code",
   "execution_count": null,
   "metadata": {},
   "outputs": [],
   "source": []
  }
 ],
 "metadata": {
  "kernelspec": {
   "display_name": "base",
   "language": "python",
   "name": "python3"
  },
  "language_info": {
   "codemirror_mode": {
    "name": "ipython",
    "version": 3
   },
   "file_extension": ".py",
   "mimetype": "text/x-python",
   "name": "python",
   "nbconvert_exporter": "python",
   "pygments_lexer": "ipython3",
   "version": "3.10.9"
  },
  "orig_nbformat": 4
 },
 "nbformat": 4,
 "nbformat_minor": 2
}
