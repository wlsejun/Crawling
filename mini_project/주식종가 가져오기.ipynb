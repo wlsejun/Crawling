{
 "cells": [
  {
   "cell_type": "code",
   "execution_count": 4,
   "metadata": {},
   "outputs": [
    {
     "name": "stdout",
     "output_type": "stream",
     "text": [
      "에코프로 1,253,000 +6.64%\n",
      "신성델타테크 45,000 +7.14%\n",
      "POSCO홀딩스 558,000 +1.27%\n",
      "휴비스 9,300 +10.45%\n",
      "인산가 3,480 +29.85%\n",
      "삼성전자 67,000 +0.60%\n",
      "에코프로비엠 333,500 +1.68%\n",
      "서남 5,110 +6.24%\n",
      "스마트레이더시스템 12,830 +60.38%\n",
      "NAVER 223,000 +3.96%\n",
      "한미반도체 58,200 -2.51%\n",
      "금양 128,700 -3.16%\n",
      "이수페타시스 36,700 +2.51%\n",
      "포스코퓨처엠 436,000 +2.35%\n",
      "시노펙스 4,690 +18.88%\n",
      "STX 31,600 -1.71%\n",
      "파워로직스 10,570 -0.66%\n",
      "덕성 6,690 +3.08%\n",
      "포스코인터내셔널 80,800 +1.00%\n",
      "나노신소재 151,400 +1.75%\n",
      "동운아나텍 28,850 +17.52%\n",
      "나인테크 4,745 -24.08%\n",
      "아모센스 17,150 -29.86%\n",
      "포스코DX 32,950 0.00%\n",
      "태경산업 8,410 -23.41%\n",
      "SK하이닉스 118,300 +1.63%\n",
      "엑셈 6,000 +22.08%\n",
      "신송홀딩스 10,470 +24.64%\n",
      "코닉오토메이션 4,825 -19.58%\n",
      "이엔플러스 6,360 +5.65%\n"
     ]
    }
   ],
   "source": [
    "from bs4 import BeautifulSoup as BS\n",
    "import requests as req\n",
    "\n",
    "url = \"https://finance.naver.com/sise/lastsearch2.naver\"\n",
    "res = req.get(url)\n",
    "soup = BS(res.text, \"html.parser\")\n",
    "\n",
    "\"\"\" for title in soup.select(\"a.tltle\"):\n",
    "    print(title.get_text(strip=True)) \"\"\"\n",
    "\n",
    "for tr in soup.select(\"table.type_5 tr\"): # 주의 : table.type_5 tbody tr 을 하면 빈리스트가 나옴. 이유는 페이지 소스를 보면 tbody가 없음. 개발자도구를 믿지말 것! 페이지소스를 확인하라!\n",
    "    if len(tr.select(\"a.tltle\")) == 0 : # 주의 : title이 아니라 tltle임\n",
    "        continue\n",
    "    title = tr.select(\"a.tltle\")[0].get_text(strip=True)\n",
    "    price = tr.select(\"td.number:nth-child(4)\")[0].get_text(strip=True) # 주의 : nth-child의 순서는 td.number에서부터의 순서가 아니라 td에서부터의 순서임\n",
    "    change = tr.select(\"td.number:nth-child(6)\")[0].get_text(strip=True)\n",
    "    print(title, price, change)"
   ]
  },
  {
   "cell_type": "code",
   "execution_count": null,
   "metadata": {},
   "outputs": [],
   "source": []
  }
 ],
 "metadata": {
  "kernelspec": {
   "display_name": "base",
   "language": "python",
   "name": "python3"
  },
  "language_info": {
   "codemirror_mode": {
    "name": "ipython",
    "version": 3
   },
   "file_extension": ".py",
   "mimetype": "text/x-python",
   "name": "python",
   "nbconvert_exporter": "python",
   "pygments_lexer": "ipython3",
   "version": "3.10.9"
  },
  "orig_nbformat": 4
 },
 "nbformat": 4,
 "nbformat_minor": 2
}
