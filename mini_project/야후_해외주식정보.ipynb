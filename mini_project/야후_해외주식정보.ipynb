{
 "cells": [
  {
   "cell_type": "code",
   "execution_count": 4,
   "metadata": {},
   "outputs": [
    {
     "name": "stdout",
     "output_type": "stream",
     "text": [
      "종목 / 현재가 / 등락률\n",
      "AMD 109.35 -7.02%\n",
      "TSLA 254.11 -2.67%\n",
      "PLTR 18.97 -5.10%\n",
      "NKLA 3.0200 -3.21%\n",
      "NIO 14.57 -0.41%\n",
      "SOFI 10.08 -2.61%\n",
      "F 13.04 -2.83%\n",
      "NVDA 442.69 -4.81%\n",
      "RIVN 25.91 -5.09%\n",
      "AMZN 128.21 -2.64%\n",
      "LCID 6.89 -5.23%\n",
      "AAPL 192.58 -1.55%\n",
      "T 14.35 +0.35%\n",
      "VRT 34.29 +29.25%\n",
      "UBER 46.96 +0.66%\n",
      "NOK 3.9400 -0.25%\n",
      "PFE 35.35 -0.73%\n",
      "TEVA 9.25 +11.58%\n",
      "XPEV 18.83 -6.08%\n",
      "BAC 31.19 -1.36%\n",
      "INTC 34.39 -3.94%\n",
      "DNA 2.0400 -12.82%\n",
      "AAL 15.95 -1.73%\n",
      "PLUG 11.65 -8.70%\n",
      "AI 39.87 -10.14%\n"
     ]
    }
   ],
   "source": [
    "from bs4 import BeautifulSoup as BS\n",
    "import requests as req\n",
    "\n",
    "url = \"https://finance.yahoo.com/most-active\"\n",
    "res = req.get(url)\n",
    "soup = BS(res.text, \"html.parser\")\n",
    "\n",
    "print(\"종목 /\", \"현재가 /\", \"등락률\")\n",
    "for tr in soup.select(\"table tbody tr\"):\n",
    "    title = tr.select(\"td:nth-child(1) a\")[0].get_text(strip=True)\n",
    "    price = tr.select(\"td:nth-child(3) fin-streamer\")[0].get_text(strip=True)\n",
    "    change = tr.select(\"td:nth-child(5) fin-streamer\")[0].get_text(strip=True)\n",
    "    print(title, price, change)"
   ]
  },
  {
   "cell_type": "code",
   "execution_count": null,
   "metadata": {},
   "outputs": [],
   "source": []
  }
 ],
 "metadata": {
  "kernelspec": {
   "display_name": "base",
   "language": "python",
   "name": "python3"
  },
  "language_info": {
   "codemirror_mode": {
    "name": "ipython",
    "version": 3
   },
   "file_extension": ".py",
   "mimetype": "text/x-python",
   "name": "python",
   "nbconvert_exporter": "python",
   "pygments_lexer": "ipython3",
   "version": "3.10.9"
  },
  "orig_nbformat": 4
 },
 "nbformat": 4,
 "nbformat_minor": 2
}
