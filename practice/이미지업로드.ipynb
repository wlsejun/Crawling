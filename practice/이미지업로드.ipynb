{
 "cells": [
  {
   "cell_type": "code",
   "execution_count": 3,
   "metadata": {},
   "outputs": [
    {
     "name": "stdout",
     "output_type": "stream",
     "text": [
      "\n"
     ]
    }
   ],
   "source": [
    "# GET\n",
    "\n",
    "import requests as req\n",
    "\n",
    "url = \"https://webhook.site/26994333-dd77-4a97-925a-1267c2bba5e7?name=hi\"\n",
    "res = req.get(url, headers={\n",
    "    \"User-Agent\" : \"SJKIM/6F\" \n",
    "})\n",
    "print(res.text)"
   ]
  },
  {
   "cell_type": "code",
   "execution_count": 5,
   "metadata": {},
   "outputs": [
    {
     "name": "stdout",
     "output_type": "stream",
     "text": [
      "\n"
     ]
    }
   ],
   "source": [
    "#POST\n",
    "\n",
    "import requests as req\n",
    "\n",
    "url = \"https://webhook.site/26994333-dd77-4a97-925a-1267c2bba5e7\"\n",
    "res = req.post(url, data={\n",
    "    \"name\" : \"hi\"\n",
    "})\n",
    "\n",
    "print(res.text)"
   ]
  },
  {
   "cell_type": "code",
   "execution_count": 11,
   "metadata": {},
   "outputs": [
    {
     "name": "stdout",
     "output_type": "stream",
     "text": [
      "200\n",
      "{\"data\":{\"id\":\"ehvF4BM\",\"title\":null,\"description\":null,\"datetime\":1691057523,\"type\":\"image\\/png\",\"animated\":false,\"width\":651,\"height\":502,\"size\":478537,\"views\":0,\"bandwidth\":0,\"vote\":null,\"favorite\":false,\"nsfw\":null,\"section\":null,\"account_url\":null,\"account_id\":0,\"is_ad\":false,\"in_most_viral\":false,\"has_sound\":false,\"tags\":[],\"ad_type\":0,\"ad_url\":\"\",\"edited\":\"0\",\"in_gallery\":false,\"deletehash\":\"wioyFuKVU4IS7rN\",\"name\":\"\",\"link\":\"https:\\/\\/i.imgur.com\\/ehvF4BM.png\"},\"success\":true,\"status\":200}\n",
      "https://i.imgur.com/ehvF4BM.png\n"
     ]
    }
   ],
   "source": [
    "import requests as req\n",
    "\n",
    "url = \"https://api.imgur.com/3/image?client_id=546c25a59c58ad7\"\n",
    "\n",
    "with open(\"image.png\", \"rb\") as f :#rb : read binary\n",
    "    img = f.read()\n",
    "\n",
    "res = req.post(url, files={\n",
    "    \"image\" : img,\n",
    "    \"type\" : \"file\",\n",
    "    \"name\" : \"image.png\"\n",
    "})\n",
    "print(res.status_code)\n",
    "print(res.text)\n",
    "\n",
    "link = res.json()[\"data\"][\"link\"] #이미지 링크 추출\n",
    "print(link)\n"
   ]
  },
  {
   "cell_type": "code",
   "execution_count": null,
   "metadata": {},
   "outputs": [],
   "source": []
  }
 ],
 "metadata": {
  "kernelspec": {
   "display_name": "base",
   "language": "python",
   "name": "python3"
  },
  "language_info": {
   "codemirror_mode": {
    "name": "ipython",
    "version": 3
   },
   "file_extension": ".py",
   "mimetype": "text/x-python",
   "name": "python",
   "nbconvert_exporter": "python",
   "pygments_lexer": "ipython3",
   "version": "3.10.9"
  },
  "orig_nbformat": 4
 },
 "nbformat": 4,
 "nbformat_minor": 2
}
