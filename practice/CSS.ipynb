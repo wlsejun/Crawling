{
 "cells": [
  {
   "cell_type": "code",
   "execution_count": 1,
   "metadata": {},
   "outputs": [
    {
     "name": "stdout",
     "output_type": "stream",
     "text": [
      "[]\n"
     ]
    },
    {
     "data": {
      "text/plain": [
       "' for a in arr:\\n    print(a.get_text(strip=True)) '"
      ]
     },
     "execution_count": 1,
     "metadata": {},
     "output_type": "execute_result"
    }
   ],
   "source": [
    "#css\n",
    "\n",
    "from bs4 import BeautifulSoup as BS\n",
    "import requests as req\n",
    "\n",
    "url = \"https://fastcampus.co.kr/\"\n",
    "res = req.get(url)\n",
    "soup = BS(res.text, \"html.parser\")\n",
    "\n",
    "#ul.product_list div.prod_info p>a:first-child\n",
    "arr = soup.select(\"strong.card__title\")\n",
    "print(arr)\n",
    "\"\"\" for a in arr:\n",
    "    print(a.get_text(strip=True)) \"\"\""
   ]
  },
  {
   "cell_type": "code",
   "execution_count": 12,
   "metadata": {},
   "outputs": [
    {
     "name": "stdout",
     "output_type": "stream",
     "text": [
      "광고!\n",
      "베이직스 2022 베이직북 14 3세대, BB1422SS, 256GB, 화이트, WIN11 Pro, 셀러론, 8GB\n",
      "레노버 2022 아이디어패드 슬림 1 15AMN7 15.6, 256GB, Free DOS, ideaPad Slim 1 15AMN7 R3, 라이젠3, 클라우드 그레이, 8GB\n",
      "LG전자 2023울트라PC, 화이트, 코어i5, 512GB, 8GB, WIN11 Home, 15U50R-GR5CK\n",
      "LG 그램 14 15 16 17 일반 터치 디스플레이 노트북 인텔 i5 i7 512GB 16GB 윈11, 블랙, 단품 + 사은품, 12세대 인텔 i7, WIN11 Home\n",
      "광고!\n",
      "레노버 씽크패드 T570 15.6인치 인텔 6세대 Core-i7 RAM 16GB SSD 512GB+HDD 500GB 윈도우11설치 중고노트북, 블랙, 코어i7, 1TB, WIN11 Pro\n",
      "광고!\n",
      "레노버 씽크패드 E15 2020년 제조 인텔 10세대 Core-i5 RAM 16GB NVMe SSD탑재 윈도우 11설치 단기사용 중고 노트북, E15-TP00117A, WIN11 Pro, 1012GB, 코어i5, 블랙\n",
      "LG전자 2023그램 노트북, 스노우화이트, 코어i5, 256GB, 16GB, WIN11 Home, 15Z90RU-GAOWK\n",
      "LG전자 2023울트라PC, 화이트, 코어i3, 256GB, 8GB, WIN11 Home, 15U50R-GR3CK\n",
      "광고!\n",
      "삼성전자 노트북 플러스2 NT550XDA-K24AT/Y 한컴오피스 증정(펜티엄 39.6cm Win11Pro RAM (8GB/16GB) SSD 378/628GB), 퓨어화이트(A-K24AT), NT550XDA-K24A, 펜티엄, 378GB, 16GB, WIN11 Pro\n",
      "LG전자 2022울트라PC 엣지, 256GB, 차콜 그레이, 16U70Q-HA76K, 라이젠7, 16GB, WIN11 Home\n",
      "광고!\n",
      "레노버 씽크패드 X280 intel 12.5인치 IPS 8세대 Core-i5 NVMe SSD장착 윈도우 11설치 1.16Kg 가벼운 중고 노트북, WIN11 Pro, 8GB, 256GB, 코어i5, 블랙\n",
      "광고!\n",
      "레노버 씽크패드 E15 2020년 제조 인텔 10세대 Core-i5 RAM 16GB NVMe SSD탑재 윈도우 11설치 단기사용 중고 노트북, E15-TP00117A, WIN11 Pro, 756GB, 코어i5, 블랙\n",
      "에이수스 2021 VivoBook Flip 14, 인디 블랙, 코어i5 11세대, 512GB, 8GB, WIN10 Home, TP470EA-EC053T\n",
      "레노버 2021 ThinkPad L13, 블랙, 코어i5 11세대, 256GB, 8GB, Free DOS, 20VH002LKD\n",
      "레노버 2020 IdeaPad Slim3 15.6, 플레티넘 그레이, 라이젠7 3세대, 512GB, 8GB, Free DOS, 81W400AVKR\n",
      "에이서 2020 Swift 3x 14, 골드, 코어i5 11세대, 256GB, 8GB, Free DOS, SF314-510G\n",
      "아이뮤즈 스톰북 노트북 N4020 35.81cm, 화이트, 셀러론, 192GB, 4GB, Windows, StormBooK14\n",
      "레노버 2020 IdeaPad S150 11.6, 아이스 블루, 셀러론, 64GB, 4GB, WIN10 Home, 81VT00QKR\n",
      "Apple 2020 맥북 에어 13, 골드, M1, 256GB, 8GB, MGND3KH/A\n",
      "LG전자 2023울트라PC 엣지, 차콜 그레이, 라이젠5, 256GB, 16GB, WIN11 Home, 16U70R-HA56K\n",
      "레노버 2022 아이디어패드 노트북, 아틱그레이, SLIM3 15ITL6, 코어i7, 256GB, 16GB, Free DOS\n",
      "에이수스 젠북 프로 15, UP6502ZA-M8009W, 512GB, 코어i7, 테크 블랙, 16GB, WIN11 Home\n",
      "레노버 2023 씽크패드 E14 AMD Gen5, 그라파이트 블랙, 라이젠3, 256GB, 8GB, WIN11 Home, 21JR000GKR\n",
      "HP 2023 노트북 15, 네추럴 실버, 라이젠5, 512GB, 16GB, Free DOS, 15-fc0065AU\n",
      "삼성전자 2022 갤럭시북 2 15.6, NT550XED-K78AS, WIN11 Home, 16GB, 256GB, 코어i7, 실버\n",
      "에이수스 2023 젠북 15 OLED, 폰더 블루, 라이젠5, 512GB, 16GB, Free DOS, UM3504DA-NX146\n",
      "LG전자 2022그램 360, 16T90Q-GA79K, 512GB, 코어i7, 옵시디안 블랙, 16GB, WIN11 Home\n",
      "광고!\n",
      "HP 250 G5 6세대i5 8G램 256G SSD 15.6화면 윈도우10 신품배터리, 블랙, 코어i5, 256GB, 8GB, WIN10 Home\n",
      "광고!\n",
      "레노버 씽크패드 T480 14인치 intel 8세대 Core-i5 RAM 16GB NVMe SSD장착 윈도우 11설치 1.58Kg 비즈니스용 중고 노트북, WIN11 Pro, 256GB, 코어i5, 블랙\n",
      "MSI 2023 모던14, 베이지로즈, 코어i5, 512GB, 8GB, Free DOS, MSI 모던14 C12M-i5 베이지로즈 (617)\n",
      "광고!\n",
      "삼성 2022 갤럭시북2 프로 360 15, 그라파이트, 갤럭시북3 360, 코어i5, 1TB, 16GB, WIN11 Home\n",
      "MSI 2023 Cyborg 15 A12VF, 블랙, 코어i7, 512GB, 8GB, Free DOS, MS-15K\n",
      "HP 2023 노트북 15, 네추럴 실버, 라이젠5, 512GB, 16GB, WIN11 Home, 15-fc0072AU\n",
      "에이수스 젠북 14 OLED, 512GB, 폰더 블루, 코어i7, UX3402ZA-KM054W, 16GB, WIN11 Home\n",
      "에이수스 2023 비보북 16X, 쿨 실버, 코어i7, 512GB, 16GB, Win11 HOME, K3605ZV-N1051\n",
      "LG전자 2023울트라PC 엣지, 차콜 그레이, 라이젠5, 256GB, 16GB, WIN11 Home, 16U70R-GA56K\n",
      "LG전자 2023그램 노트북, 옵시디안 블랙, 17Z90R-EA7CK, 코어i7, 512GB, 16GB, WIN11 Home\n",
      "삼성전자 2021 노트북 플러스2 15.6, NT550XDA-K24AT, WIN11 Pro, 8GB, 256GB, 펜티엄, 퓨어 화이트\n",
      "HP 2023 엔비 x360 노트북 15.6, Natural Silver Aluminum, 코어i5, 512GB, 16GB, WIN11 Home, ENVY x360 2-in-1 Laptop 15-ew0053TU\n",
      "LG전자 2023그램 노트북, 옵시디안 블랙, 코어i7, 512GB, 16GB, WIN11 Home, 16Z90R-EA7CK\n",
      "LG전자 2023그램 360, 옵시디안 블랙, 코어i5, 512GB, 16GB, WIN11 Home, 14T90R-GA5CK\n",
      "레노버 2022 아이디어패드 슬림 1 15AMN7 15.6, 256GB, Win11 HOME, ideaPad Slim 1 15AMN7 R5, 라이젠5, 클라우드 그레이, 8GB\n",
      "에이수스 2023 젠북 15, 폰더 블루, 라이젠5, 512GB, 16GB, Win11 HOME, UM3504DA-BN144\n"
     ]
    }
   ],
   "source": [
    "from bs4 import BeautifulSoup as BS\n",
    "import requests as req\n",
    "\n",
    "url = \"https://www.coupang.com/np/search?component=&q=%EB%85%B8%ED%8A%B8%EB%B6%81&channel=user\"\n",
    "res = req.get(url, headers={\n",
    "    \"User-Agent\" : \"Mozilla/5.0 (Macintosh; Intel Mac OS X 10_15_7) AppleWebKit/537.36 (KHTML, like Gecko) Chrome/115.0.0.0 Safari/537.36\",\n",
    "    \"Accept-Language\" : \"ko-KR,ko;q=0.9,en-US;q=0.8,en;q=0.7\" #Accept-Language 정보를 입력안하면 차단돼서 실행 안됨.\n",
    "    } )\n",
    "soup = BS(res.text, \"html.parser\")\n",
    "\n",
    "for desc in soup.select('div.descriptions-inner'):\n",
    "    ads = desc.select(\"span.ad-badge\")\n",
    "    if len(ads) > 0 :\n",
    "        print(\"광고!\")\n",
    "    print(desc.select(\"div.name\")[0].get_text(strip=True))"
   ]
  },
  {
   "cell_type": "code",
   "execution_count": null,
   "metadata": {},
   "outputs": [],
   "source": []
  }
 ],
 "metadata": {
  "kernelspec": {
   "display_name": "base",
   "language": "python",
   "name": "python3"
  },
  "language_info": {
   "codemirror_mode": {
    "name": "ipython",
    "version": 3
   },
   "file_extension": ".py",
   "mimetype": "text/x-python",
   "name": "python",
   "nbconvert_exporter": "python",
   "pygments_lexer": "ipython3",
   "version": "3.10.9"
  },
  "orig_nbformat": 4
 },
 "nbformat": 4,
 "nbformat_minor": 2
}
