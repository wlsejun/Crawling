{
 "cells": [
  {
   "cell_type": "code",
   "execution_count": 21,
   "metadata": {},
   "outputs": [
    {
     "ename": "AttributeError",
     "evalue": "'NoneType' object has no attribute 'to_capabilities'",
     "output_type": "error",
     "traceback": [
      "\u001b[0;31m---------------------------------------------------------------------------\u001b[0m",
      "\u001b[0;31mAttributeError\u001b[0m                            Traceback (most recent call last)",
      "Cell \u001b[0;32mIn[21], line 4\u001b[0m\n\u001b[1;32m      1\u001b[0m \u001b[39mfrom\u001b[39;00m \u001b[39mselenium\u001b[39;00m \u001b[39mimport\u001b[39;00m webdriver\n\u001b[1;32m      2\u001b[0m \u001b[39mfrom\u001b[39;00m \u001b[39mselenium\u001b[39;00m\u001b[39m.\u001b[39;00m\u001b[39mwebdriver\u001b[39;00m\u001b[39m.\u001b[39;00m\u001b[39mcommon\u001b[39;00m\u001b[39m.\u001b[39;00m\u001b[39mdesired_capabilities\u001b[39;00m \u001b[39mimport\u001b[39;00m DesiredCapabilities\n\u001b[0;32m----> 4\u001b[0m browser \u001b[39m=\u001b[39m webdriver\u001b[39m.\u001b[39;49mRemote(\u001b[39m\"\u001b[39;49m\u001b[39mhttp://172.17.0.2:4444/wd/hub\u001b[39;49m\u001b[39m\"\u001b[39;49m, DesiredCapabilities\u001b[39m.\u001b[39;49mCHROME)\n\u001b[1;32m      5\u001b[0m url \u001b[39m=\u001b[39m \u001b[39m\"\u001b[39m\u001b[39mhttps://www.naver.com\u001b[39m\u001b[39m\"\u001b[39m\n\u001b[1;32m      6\u001b[0m browser\u001b[39m.\u001b[39mget(url)\n",
      "File \u001b[0;32m~/anaconda3/lib/python3.10/site-packages/selenium/webdriver/remote/webdriver.py:186\u001b[0m, in \u001b[0;36mWebDriver.__init__\u001b[0;34m(self, command_executor, keep_alive, file_detector, options)\u001b[0m\n\u001b[1;32m    184\u001b[0m     _ignore_local_proxy \u001b[39m=\u001b[39m \u001b[39mFalse\u001b[39;00m\n\u001b[1;32m    185\u001b[0m \u001b[39melse\u001b[39;00m:\n\u001b[0;32m--> 186\u001b[0m     capabilities \u001b[39m=\u001b[39m options\u001b[39m.\u001b[39;49mto_capabilities()\n\u001b[1;32m    187\u001b[0m     _ignore_local_proxy \u001b[39m=\u001b[39m options\u001b[39m.\u001b[39m_ignore_local_proxy\n\u001b[1;32m    188\u001b[0m \u001b[39mself\u001b[39m\u001b[39m.\u001b[39mcommand_executor \u001b[39m=\u001b[39m command_executor\n",
      "\u001b[0;31mAttributeError\u001b[0m: 'NoneType' object has no attribute 'to_capabilities'"
     ]
    }
   ],
   "source": [
    "from selenium import webdriver\n",
    "from selenium.webdriver.common.desired_capabilities import DesiredCapabilities\n",
    "\n",
    "browser = webdriver.Remote(\"http://172.17.0.2:4444/wd/hub\", DesiredCapabilities.CHROME)\n",
    "url = \"https://www.naver.com\"\n",
    "browser.get(url)\n",
    "print(browser.title)\n",
    "browser.close()\n"
   ]
  },
  {
   "cell_type": "code",
   "execution_count": 23,
   "metadata": {},
   "outputs": [],
   "source": [
    "from selenium import webdriver\n",
    "import time"
   ]
  },
  {
   "cell_type": "code",
   "execution_count": 25,
   "metadata": {},
   "outputs": [],
   "source": [
    "options = webdriver.FirefoxOptions()\n",
    "options.add_argument(\"window-size=1000, 1000\")\n",
    "driver = webdriver.Firefox(options = options)\n",
    "url = \"https://www.naver.com/\"\n",
    "driver.get(url)\n",
    "time.sleep(3)\n",
    "driver.close()"
   ]
  },
  {
   "cell_type": "code",
   "execution_count": null,
   "metadata": {},
   "outputs": [],
   "source": []
  }
 ],
 "metadata": {
  "kernelspec": {
   "display_name": "base",
   "language": "python",
   "name": "python3"
  },
  "language_info": {
   "codemirror_mode": {
    "name": "ipython",
    "version": 3
   },
   "file_extension": ".py",
   "mimetype": "text/x-python",
   "name": "python",
   "nbconvert_exporter": "python",
   "pygments_lexer": "ipython3",
   "version": "3.10.9"
  },
  "orig_nbformat": 4
 },
 "nbformat": 4,
 "nbformat_minor": 2
}
