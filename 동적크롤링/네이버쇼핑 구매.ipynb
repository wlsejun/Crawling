{
 "cells": [
  {
   "cell_type": "code",
   "execution_count": 10,
   "metadata": {},
   "outputs": [
    {
     "data": {
      "text/plain": [
       "' \\ntime.sleep(10)\\n\\ndriver.close() '"
      ]
     },
     "execution_count": 10,
     "metadata": {},
     "output_type": "execute_result"
    }
   ],
   "source": [
    "from selenium import webdriver\n",
    "from selenium.webdriver.common.by import By\n",
    "from selenium.webdriver.support.ui import WebDriverWait\n",
    "from selenium.webdriver.support import expected_conditions as EC\n",
    "from selenium.webdriver.common.keys import Keys\n",
    "import time\n",
    "import os\n",
    "import pyperclip #클립보드 : 복사 붙여넣기 할 때 임시 저장하는 곳. 복사 붙여넣기에 사용됨.\n",
    "\n",
    "driver = webdriver.Firefox()\n",
    "wait = WebDriverWait(driver, 10)\n",
    "short_wait = WebDriverWait(driver, 3)\n",
    "\n",
    "def find(wait, css_selector):\n",
    "    return wait.until(EC.visibility_of_element_located((By.CSS_SELECTOR, css_selector))) #visibility_of_element_located : 클릭할 수 있는 상태인지 확인\n",
    "\n",
    "driver.get(\"https://shopping.naver.com\")\n",
    "login_btn = find(wait, \"a#gnb_login_button\") \n",
    "login_btn.click()\n",
    "\n",
    "input_id = find(wait, \"input#id\")\n",
    "input_pw = find(wait, \"input#pw\")\n",
    "\n",
    "pyperclip.copy(\"sjgood97\")\n",
    "input_id.send_keys(Keys.COMMAND, \"v\")\n",
    "\n",
    "time.sleep(3)\n",
    "\n",
    "pyperclip.copy(\"sj9810!!\")\n",
    "input_pw.send_keys(Keys.COMMAND, \"v\")\n",
    "\n",
    "time.sleep(3)\n",
    "\n",
    "input_pw.send_keys(Keys.RETURN)\n",
    "\n",
    "add = find(wait, \"#new\\.save\")\n",
    "add.click()\n",
    "\n",
    "\n",
    "time.sleep(10)\n",
    "\n",
    "driver.close()\n",
    "\n",
    "\n",
    "\n",
    "\n"
   ]
  },
  {
   "cell_type": "code",
   "execution_count": null,
   "metadata": {},
   "outputs": [],
   "source": []
  }
 ],
 "metadata": {
  "kernelspec": {
   "display_name": "base",
   "language": "python",
   "name": "python3"
  },
  "language_info": {
   "codemirror_mode": {
    "name": "ipython",
    "version": 3
   },
   "file_extension": ".py",
   "mimetype": "text/x-python",
   "name": "python",
   "nbconvert_exporter": "python",
   "pygments_lexer": "ipython3",
   "version": "3.10.9"
  },
  "orig_nbformat": 4
 },
 "nbformat": 4,
 "nbformat_minor": 2
}
