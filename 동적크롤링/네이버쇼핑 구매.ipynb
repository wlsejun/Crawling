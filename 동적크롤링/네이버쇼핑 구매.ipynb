{
 "cells": [
  {
   "cell_type": "code",
   "execution_count": 17,
   "metadata": {},
   "outputs": [
    {
     "ename": "AttributeError",
     "evalue": "'WebDriver' object has no attribute 'find_elements_by_css_selector'",
     "output_type": "error",
     "traceback": [
      "\u001b[0;31m---------------------------------------------------------------------------\u001b[0m",
      "\u001b[0;31mAttributeError\u001b[0m                            Traceback (most recent call last)",
      "Cell \u001b[0;32mIn[17], line 47\u001b[0m\n\u001b[1;32m     44\u001b[0m search\u001b[39m.\u001b[39msend_keys(Keys\u001b[39m.\u001b[39mRETURN)\n\u001b[1;32m     46\u001b[0m find(wait, \u001b[39m\"\u001b[39m\u001b[39ma[class^=product_link__]\u001b[39m\u001b[39m\"\u001b[39m)\n\u001b[0;32m---> 47\u001b[0m titles \u001b[39m=\u001b[39m driver\u001b[39m.\u001b[39;49mfind_elements_by_css_selector(\u001b[39m\"\u001b[39m\u001b[39ma[class^=product_link__]\u001b[39m\u001b[39m\"\u001b[39m)\n\u001b[1;32m     48\u001b[0m \u001b[39mfor\u001b[39;00m title \u001b[39min\u001b[39;00m titles :\n\u001b[1;32m     49\u001b[0m     \u001b[39mprint\u001b[39m(title\u001b[39m.\u001b[39mtext)\n",
      "\u001b[0;31mAttributeError\u001b[0m: 'WebDriver' object has no attribute 'find_elements_by_css_selector'"
     ]
    }
   ],
   "source": [
    "from selenium import webdriver\n",
    "from selenium.webdriver.common.by import By\n",
    "from selenium.webdriver.support.ui import WebDriverWait\n",
    "from selenium.webdriver.support import expected_conditions as EC\n",
    "from selenium.webdriver.common.keys import Keys\n",
    "import time\n",
    "import os\n",
    "import pyperclip #클립보드 : 복사 붙여넣기 할 때 임시 저장하는 곳. 복사 붙여넣기에 사용됨.\n",
    "\n",
    "driver = webdriver.Firefox()\n",
    "wait = WebDriverWait(driver, 10)\n",
    "short_wait = WebDriverWait(driver, 3)\n",
    "\n",
    "def find(wait, css_selector):\n",
    "    return wait.until(EC.visibility_of_element_located((By.CSS_SELECTOR, css_selector))) #visibility_of_element_located : 클릭할 수 있는 상태인지 확인\n",
    "\n",
    "driver.get(\"https://shopping.naver.com\")\n",
    "login_btn = find(wait, \"a#gnb_login_button\") \n",
    "login_btn.click()\n",
    "\n",
    "input_id = find(wait, \"input#id\")\n",
    "input_pw = find(wait, \"input#pw\")\n",
    "\n",
    "pyperclip.copy(\"sjgood97\")\n",
    "input_id.send_keys(Keys.COMMAND, \"v\")\n",
    "\n",
    "time.sleep(3)\n",
    "\n",
    "pyperclip.copy(\"sj9810!!\")\n",
    "input_pw.send_keys(Keys.COMMAND, \"v\")\n",
    "\n",
    "time.sleep(3)\n",
    "\n",
    "input_pw.send_keys(Keys.RETURN)\n",
    "\n",
    "add = find(wait, \"#new\\.save\")\n",
    "add.click()\n",
    "\n",
    "wait.until(EC.presence_of_element_located((By.CSS_SELECTOR, \"a#gnb_logout_button\")))\n",
    "\n",
    "search = find(wait, \"._searchInput_search_text_3CUDs\" )\n",
    "search.send_keys(\"아이폰 케이스\")\n",
    "time.sleep(2)\n",
    "search.send_keys(Keys.RETURN)\n",
    "\n",
    "find(wait, \"a[class^=product_link__]\")\n",
    "titles = driver.find_elements(By.CSS_SELECTOR, \"a[class^=product_link__]\")\n",
    "for title in titles :\n",
    "    print(title.text)\n",
    "\n",
    "time.sleep(10)\n",
    "\n",
    "driver.close()\n",
    "\n",
    "\n",
    "\n",
    "\n"
   ]
  },
  {
   "cell_type": "code",
   "execution_count": null,
   "metadata": {},
   "outputs": [],
   "source": []
  },
  {
   "cell_type": "code",
   "execution_count": null,
   "metadata": {},
   "outputs": [],
   "source": []
  },
  {
   "cell_type": "code",
   "execution_count": null,
   "metadata": {},
   "outputs": [],
   "source": []
  }
 ],
 "metadata": {
  "kernelspec": {
   "display_name": "base",
   "language": "python",
   "name": "python3"
  },
  "language_info": {
   "codemirror_mode": {
    "name": "ipython",
    "version": 3
   },
   "file_extension": ".py",
   "mimetype": "text/x-python",
   "name": "python",
   "nbconvert_exporter": "python",
   "pygments_lexer": "ipython3",
   "version": "3.10.9"
  },
  "orig_nbformat": 4
 },
 "nbformat": 4,
 "nbformat_minor": 2
}
