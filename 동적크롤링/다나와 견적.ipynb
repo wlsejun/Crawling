{
 "cells": [
  {
   "cell_type": "code",
   "execution_count": 4,
   "metadata": {},
   "outputs": [],
   "source": [
    "from selenium import webdriver\n",
    "from selenium.webdriver.common.by import By\n",
    "from selenium.webdriver.support.ui import WebDriverWait\n",
    "from selenium.webdriver.support import expected_conditions as EC\n",
    "from selenium.webdriver.common.keys import Keys\n",
    "import time\n",
    "import os"
   ]
  },
  {
   "cell_type": "code",
   "execution_count": 74,
   "metadata": {},
   "outputs": [
    {
     "name": "stdout",
     "output_type": "stream",
     "text": [
      "-------------\n",
      "cpu 제조사를 골라주세요.\n",
      "-------------\n",
      "1. 인텔\n",
      "2. AMD\n",
      "0\n",
      "인텔\n"
     ]
    }
   ],
   "source": [
    "driver = webdriver.Firefox()\n",
    "wait = WebDriverWait(driver, 10)\n",
    "\n",
    "def find_present(css):\n",
    "    return wait.until(EC.presence_of_element_located((By.CSS_SELECTOR, css)))\n",
    "\n",
    "def finds_present(css):\n",
    "    find_present(css)\n",
    "    return driver.find_elements(By.CSS_SELECTOR, css)\n",
    "\n",
    "def find_visible(css):\n",
    "    return wait.until(EC.visibility_of_element_located((By.CSS_SELECTOR, css)))\n",
    "\n",
    "def finds_visible(css):\n",
    "    find_visible(css)\n",
    "    return driver.find_elements(By.CSS_SELECTOR, css)\n",
    "\n",
    "def choose_one(qestion, options):\n",
    "    print('-------------')\n",
    "    print(qestion)\n",
    "    print('-------------')\n",
    "    for i, option in enumerate(options, start=1):\n",
    "        print(f\"{i}. {option}\")\n",
    "    choose = input(\"->\")\n",
    "    return int(choose) -1\n",
    "\n",
    "\n",
    "category = {\n",
    "    \"cpu\" : \"873\",\n",
    "    \"메인보드\" : \"875\",\n",
    "    \"메모리\" : \"874\",\n",
    "    \"그래픽카드\" : \"876\",\n",
    "    \"ssd\" : \"32617\",\n",
    "    \"케이스\" : \"879\",\n",
    "    \"파워\" : \"880\"\n",
    "}\n",
    "driver.get(\"http://shop.danawa.com/virtualestimate/?controller=estimateMain&methods=index&marketPlaceSeq=16&logger_kw=dnw_lw_esti\")\n",
    "mainboard = find_visible(\"dd.category_\" + category[\"cpu\"])\n",
    "mainboard.click()\n",
    "\n",
    "time.sleep(1)\n",
    "\n",
    "options = finds_visible(\"div.search_option_item:nth-child(1) > div:nth-child(2) > ul:nth-child(1) > li > label\") #li 는 클릭이 안됨.. label까지 작성해줘서 해결됨.\n",
    "i = choose_one(\"cpu 제조사를 골라주세요.\", [x.text for x in options])\n",
    "options[i].click()\n",
    "\n",
    "\n",
    "time.sleep(10)\n",
    "\n",
    "driver.quit()"
   ]
  },
  {
   "cell_type": "code",
   "execution_count": null,
   "metadata": {},
   "outputs": [],
   "source": []
  }
 ],
 "metadata": {
  "kernelspec": {
   "display_name": "base",
   "language": "python",
   "name": "python3"
  },
  "language_info": {
   "codemirror_mode": {
    "name": "ipython",
    "version": 3
   },
   "file_extension": ".py",
   "mimetype": "text/x-python",
   "name": "python",
   "nbconvert_exporter": "python",
   "pygments_lexer": "ipython3",
   "version": "3.10.9"
  },
  "orig_nbformat": 4
 },
 "nbformat": 4,
 "nbformat_minor": 2
}
