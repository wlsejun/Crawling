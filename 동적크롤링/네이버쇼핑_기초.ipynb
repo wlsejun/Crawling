{
 "cells": [
  {
   "cell_type": "code",
   "execution_count": 1,
   "metadata": {},
   "outputs": [],
   "source": [
    "from selenium import webdriver\n",
    "import time"
   ]
  },
  {
   "cell_type": "code",
   "execution_count": 14,
   "metadata": {},
   "outputs": [],
   "source": [
    "from selenium import webdriver\n",
    "from selenium.webdriver.common.by import By\n",
    "from selenium.webdriver.support.ui import WebDriverWait\n",
    "from selenium.webdriver.support import expected_conditions as EC\n",
    "from selenium.webdriver.common.keys import Keys\n",
    "import time\n",
    "\n",
    "\n",
    "driver = webdriver.Firefox()\n",
    "\n",
    "driver.get(\"https://shopping.naver.com/\")\n",
    "wait = WebDriverWait(driver, 10)\n",
    "\n",
    "def find(wait, css_selector):\n",
    "    return wait.until(EC.presence_of_element_located((By.CSS_SELECTOR, css_selector)))\n",
    "\n",
    "search = find(wait, \"._searchInput_search_text_3CUDs\" )\n",
    "search.send_keys(\"아이폰 케이스\\n\") #\\n 은 엔터역할을 해줌\n",
    "search.send_keys(Keys.RETURN) #macOS에서는 \\n 이 실행이 안될 수 있음. keys.return을 사용하면 됨.\n",
    "time.sleep(3)\n",
    "\n",
    "\"\"\" button = find(wait, \"._searchInput_button_search_1n1aw\")\n",
    "button.click()\n",
    "time.sleep(3)\n",
    " \"\"\"\n",
    "driver.close()"
   ]
  },
  {
   "cell_type": "code",
   "execution_count": null,
   "metadata": {},
   "outputs": [],
   "source": []
  }
 ],
 "metadata": {
  "kernelspec": {
   "display_name": "base",
   "language": "python",
   "name": "python3"
  },
  "language_info": {
   "codemirror_mode": {
    "name": "ipython",
    "version": 3
   },
   "file_extension": ".py",
   "mimetype": "text/x-python",
   "name": "python",
   "nbconvert_exporter": "python",
   "pygments_lexer": "ipython3",
   "version": "3.10.9"
  },
  "orig_nbformat": 4
 },
 "nbformat": 4,
 "nbformat_minor": 2
}
